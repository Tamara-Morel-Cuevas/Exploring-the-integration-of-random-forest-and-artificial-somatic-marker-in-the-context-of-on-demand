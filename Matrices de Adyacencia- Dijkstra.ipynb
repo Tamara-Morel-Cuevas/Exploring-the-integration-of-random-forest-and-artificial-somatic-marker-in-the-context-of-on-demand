{
 "cells": [
  {
   "cell_type": "markdown",
   "metadata": {},
   "source": [
    "# Algoritmo de Dijkstra"
   ]
  },
  {
   "cell_type": "markdown",
   "metadata": {},
   "source": [
    "Nombre: Tamara Morel Cuevas\n",
    "\n",
    "Instituto de Estadística Universidad de Valparaíso\n",
    "\n",
    "Ingeniería en Estadística\n",
    "\n",
    "Correo: tamaramorelc@gmail.com\n",
    "\n",
    "Nombre profesor guía: Harvey Rosas Quintero\n",
    "\n",
    "Correo: hjrosasq@uv.cl"
   ]
  },
  {
   "cell_type": "markdown",
   "metadata": {},
   "source": [
    "## Matrices de Adyacencia"
   ]
  },
  {
   "cell_type": "markdown",
   "metadata": {},
   "source": [
    "Se crean matrices de adyacencia de acuerdo a los requerimientos de los tres perfiles de clientes, y así otorgar 3 posibles rutas a escoger a los clientes. Esto se hace para poder generar rutas llamando al algoritmo de Dijkstra."
   ]
  },
  {
   "cell_type": "markdown",
   "metadata": {},
   "source": [
    "### Matriz de adyacencia Perfil del Trabajador\n",
    "\n",
    "Donde sus pesos estarán en los tiempos promedios menores, para así disminuir los tiempos de desplazamiento"
   ]
  },
  {
   "cell_type": "code",
   "execution_count": null,
   "metadata": {},
   "outputs": [],
   "source": [
    "lis=range(0,42)\n",
    "trabajador= pd.DataFrame(columns=lis)\n",
    "for e in lis:  #la rellenamos de 0 para poder acceder a la posiciones \n",
    "    trabajador.loc[e] = 0"
   ]
  },
  {
   "cell_type": "code",
   "execution_count": null,
   "metadata": {},
   "outputs": [],
   "source": [
    "def matrizAdy_trabajador (matriz):\n",
    "    p=(matriz.mean()).mean()\n",
    "    for i in range (42):\n",
    "        for j in range (42):\n",
    "            \n",
    "            if matriz.loc[i].loc[j]>p:\n",
    "                    trabajador.loc[i].loc[j]= float('inf')\n",
    "            else:\n",
    "                trabajador.loc[i].loc[j]=matriz.loc[i].loc[j]\n",
    "\n",
    "    print(trabajador)"
   ]
  },
  {
   "cell_type": "code",
   "execution_count": null,
   "metadata": {},
   "outputs": [],
   "source": [
    "#Se llama a la función y se le ingresan los datos de matriz de distancia en tiempo\n",
    "matrizAdy_trabajador(datos)"
   ]
  },
  {
   "cell_type": "markdown",
   "metadata": {},
   "source": [
    "### Matriz de adyacencia perfil Estudiante\n",
    "\n",
    "El cual desea minimizar costos, por ende la distancia recorrida debe ser la más corta, por lo tanto, se utiliza la matriz de distancia en kilómetros"
   ]
  },
  {
   "cell_type": "code",
   "execution_count": null,
   "metadata": {},
   "outputs": [],
   "source": [
    "lis=range(0,42)\n",
    "estudiante= pd.DataFrame(columns=lis)\n",
    "for e in lis:  #la rellenamos de 0 para poder acceder a la posiciones \n",
    "    estudiante.loc[e] = 0\n",
    "    "
   ]
  },
  {
   "cell_type": "code",
   "execution_count": null,
   "metadata": {},
   "outputs": [],
   "source": [
    "def matrizAdy_estudiante (matriz):\n",
    "    p=(matriz.mean()).mean()\n",
    "    for i in range (42):\n",
    "        for j in range (42):\n",
    "            \n",
    "            if matriz.loc[i].loc[j]>p:\n",
    "                estudiante.loc[i].loc[j]= float('inf')\n",
    "    \n",
    "            else:\n",
    "                estudiante.loc[i].loc[j]=matriz.loc[i].loc[j]\n",
    "\n",
    "    print(estudiante)"
   ]
  },
  {
   "cell_type": "code",
   "execution_count": null,
   "metadata": {},
   "outputs": [],
   "source": [
    "# se le ingresa la matriz de distancia en kilómetros\n",
    "matrizAdy_estudiante(datos)  "
   ]
  },
  {
   "cell_type": "markdown",
   "metadata": {},
   "source": [
    "### Matriz de adyacencia perfil del Turista\n",
    "\n",
    "Donde sus pesos estarán en los lugares que representen un lugar turistico "
   ]
  },
  {
   "cell_type": "code",
   "execution_count": null,
   "metadata": {},
   "outputs": [],
   "source": [
    "lis=range(0,42)\n",
    "turista= pd.DataFrame(columns=lis)\n",
    "for e in lis:  #la rellenamos de 0 para poder acceder a la posiciones \n",
    "    turista.loc[e] = float('inf')\n",
    "    "
   ]
  },
  {
   "cell_type": "code",
   "execution_count": null,
   "metadata": {},
   "outputs": [],
   "source": [
    "# defino una función para crear matriz de adyancencia del perfil turista\n",
    "#Dado que las localidades de turistas estan ordenadas de la pocision 30 hacia abajo \n",
    "def matrizAdya_turista (m):\n",
    "    for i in range (42):\n",
    "        \n",
    "        for j in range (42):\n",
    "            \n",
    "            if i>29:\n",
    "                \n",
    "                turista.loc[i].loc[j]= m.loc[i].loc[j]\n",
    "                \n",
    "            if j>29:\n",
    "                    \n",
    "                turista.loc[i].loc[j]= m.loc[i].loc[j]\n",
    "                    \n",
    "            else:\n",
    "                    m.loc[i].loc[j] = float('inf')\n",
    "    print (turista)\n",
    "\n",
    "            "
   ]
  },
  {
   "cell_type": "code",
   "execution_count": null,
   "metadata": {},
   "outputs": [],
   "source": [
    "# Luego se llama a la dunción y se le ingresa la matriz de distancia en minutos \n",
    "matrizAdya_turista(datos)"
   ]
  },
  {
   "cell_type": "markdown",
   "metadata": {},
   "source": [
    "## Algoritmo de Dijkstra"
   ]
  },
  {
   "cell_type": "code",
   "execution_count": null,
   "metadata": {},
   "outputs": [],
   "source": [
    "# Librería para utilizar algoritmo de Dijkstra\n",
    "import networkx as nx"
   ]
  },
  {
   "cell_type": "markdown",
   "metadata": {},
   "source": [
    "Se crea un Grafo para así luego llamar al algoritmo en la simulación "
   ]
  },
  {
   "cell_type": "code",
   "execution_count": null,
   "metadata": {},
   "outputs": [],
   "source": [
    "# perfil trabajador valor 1\n",
    "trabajador= pd.read_excel('trabajador.xlsx', index_col=0)\n",
    "Tr= nx.DiGraph(trabajador.values)\n",
    "#perfil estudiante valor 2\n",
    "estudiante = pd.read_excel('estudiante.xlsx', index_col=0)\n",
    "Es= nx.DiGraph(estudiante.values)\n",
    "# perfil turista Valor 3\n",
    "turista = pd.read_excel('turista.xlsx', index_col=0)\n",
    "Tu= nx.DiGraph(turista.values)"
   ]
  }
 ],
 "metadata": {
  "kernelspec": {
   "display_name": "Python 3",
   "language": "python",
   "name": "python3"
  },
  "language_info": {
   "codemirror_mode": {
    "name": "ipython",
    "version": 3
   },
   "file_extension": ".py",
   "mimetype": "text/x-python",
   "name": "python",
   "nbconvert_exporter": "python",
   "pygments_lexer": "ipython3",
   "version": "3.7.1"
  }
 },
 "nbformat": 4,
 "nbformat_minor": 2
}
