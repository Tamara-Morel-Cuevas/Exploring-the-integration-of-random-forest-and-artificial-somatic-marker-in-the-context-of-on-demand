{
 "cells": [
  {
   "cell_type": "markdown",
   "metadata": {},
   "source": [
    "# Matriz de distancia y API de Google Maps"
   ]
  },
  {
   "cell_type": "markdown",
   "metadata": {},
   "source": [
    "Nombre: Tamara Morel Cuevas\n",
    "\n",
    "Instituto de Estadística Universidad de Valparaíso\n",
    "\n",
    "Ingeniería en Estadística\n",
    "\n",
    "Correo: tamaramorelc@gmail.com\n",
    "\n",
    "Nombre profesor guía: Harvey Rosas Quintero\n",
    "\n",
    "Correo: hjrosasq@uv.cl\n",
    "\n"
   ]
  },
  {
   "cell_type": "markdown",
   "metadata": {},
   "source": [
    "### Generar puntos georeferenciados aleatorios"
   ]
  },
  {
   "cell_type": "code",
   "execution_count": null,
   "metadata": {},
   "outputs": [],
   "source": [
    "import random\n",
    "import math\n",
    "datos =list()\n",
    "# genera puntos aleatorios dentro de un radio \n",
    "def randomGeoref (centro, radio):# se define una función para generar puntos aleatorios\n",
    "    y0 = centro[0]; \n",
    "    # se define como y0 la latitud que sera el primer elemento  como \"punto de origen\"\n",
    "    x0 = centro[1]; # se define como x0 la longitud que especiquemos como \"punto de origen\"\n",
    "    rd = radio / 111300; #//unos 111300 metros en un grado\n",
    "    \n",
    "    u = random.random(); #genera valores aleatorios\n",
    "    v = random.random(); #genera valores aleatorios\n",
    "\n",
    "    w = rd * math.sqrt(u);# genera una distancia aleatoria no mayor que el radio\n",
    "    t = 2 * math.pi * v;  # convierte 0 a 1 en un ángulo aleatorio en radianes.\n",
    "    \n",
    "    #calcular la posición desde el ángulo y la distancia\n",
    "    x = w * math.cos(t);\n",
    "    y = w * math.sin(t);\n",
    "    \n",
    "    #xp = x / math.cos(y0);\n",
    "    \n",
    "    nuevalat = y + y0; #ahora se suma la posición y con la latitud de origen \n",
    "    nuevalon = x + x0; # se suma la posición x con la longitud de origen\n",
    "    #newlon2 = xp + x0;\n",
    "    \n",
    "    return (nuevalat, nuevalon);"
   ]
  },
  {
   "cell_type": "code",
   "execution_count": null,
   "metadata": {},
   "outputs": [],
   "source": [
    "aleatorio=[0 for x in range(18)] # creo una lista de o con un rango de 18\n",
    "for i in range(18): # hago un ciclo for para generar 18 puntos aleatorios\n",
    "    aleatorio[i] =randomGeoref((-33.0175803,-71.5503599), 1000) # banco de chile Av libertad 6 norte  con un radio de 1000 metros\n",
    "    print( aleatorio[i] )"
   ]
  },
  {
   "cell_type": "markdown",
   "metadata": {},
   "source": [
    "## Conectar la APi de Google a Python"
   ]
  },
  {
   "cell_type": "markdown",
   "metadata": {},
   "source": [
    "1. Se debe crear una cuenta en Google Cloud Platform link: https://acortar.link/7PuPo además de registrar una tarjeta de crédito.\n",
    "\n",
    "2. Ingresar a la consola de API de Google crear un proyecto en la parte superior de la consola \n",
    "\n",
    "3. Una vez creado el proyecto ingresar al menú a la opción de Apls y Servicios y seleccionar credenciales, para generar la clave de API donde debe ingresar las restricciones que seran las API a utilizar (Ej: matriz de distancia, geocodificación, direcciones, etc).\n",
    "\n",
    "\n",
    "La tabla de precios para cada consulta o cantidad de datos a utlizar se registran en el siguiente link https://cloud.google.com/maps-platform/pricing/sheet?hl=es-419, donde a su vez todos los meses se da un crédito de $200 dolares.\n"
   ]
  },
  {
   "cell_type": "markdown",
   "metadata": {},
   "source": [
    "Instalar el siguiente paquete para python\n",
    "\n",
    "pip install -U googlemaps\n",
    "\n",
    "pip install google-cloud-storage"
   ]
  },
  {
   "cell_type": "code",
   "execution_count": null,
   "metadata": {},
   "outputs": [],
   "source": [
    "import googlemaps\n",
    "# algunas librerias que serán necesarias\n",
    "import pandas as pd\n",
    "import numpy as np\n",
    "\n"
   ]
  },
  {
   "cell_type": "markdown",
   "metadata": {},
   "source": [
    "## Geocodificación de direcciones"
   ]
  },
  {
   "cell_type": "code",
   "execution_count": null,
   "metadata": {},
   "outputs": [],
   "source": [
    "#Comando para geocoficicar una direccion Ejemplo: \n",
    "gmaps = googlemaps.Client(key='Aqui va la Clave de API') \n",
    "geocode_result = gmaps.geocode('Reloj de Flores, Viña del Mar')\n",
    "geocode_result"
   ]
  },
  {
   "cell_type": "code",
   "execution_count": null,
   "metadata": {},
   "outputs": [],
   "source": [
    "\n",
    "#defino una función de gocodificador que me recorra una lista con valores latitud y longitud\n",
    "#ya que solamente arroja resultados en formato JSON se selecciona lo deseado a guardar \n",
    "loc=list()\n",
    "geo=[]\n",
    "def geocode_direc(loc):\n",
    "    gmaps = googlemaps.Client(key='Aqui va la Clave de API')\n",
    "    p=0\n",
    "    n=23 \n",
    "    for i in range(n+1): #creo un ciclo for para que recorra toda la lista \n",
    "        geocode_resultado = gmaps.geocode(loc[p]) # utilizo el comando de gmaps.geocode para obtener los datos \n",
    "        p=p+1\n",
    "        #como el texto esta en JSON selecciono lo que quiero que me imprima \n",
    "        #dire = geocode_resultado[0][\"formatted_address\"] \n",
    "        lat = geocode_resultado[0][\"geometry\"][\"location\"][\"lat\"] \n",
    "        lon = geocode_resultado[0][\"geometry\"][\"location\"][\"lng\"]\n",
    "        geo.append((lat,lon))\n",
    "        print (geo)"
   ]
  },
  {
   "cell_type": "markdown",
   "metadata": {},
   "source": [
    "## Geocodificación inversa de puntos georeferenciados a direcciones"
   ]
  },
  {
   "cell_type": "code",
   "execution_count": null,
   "metadata": {},
   "outputs": [],
   "source": [
    "#Comando para encontrar la dirección de puntos saliendo toda la información \n",
    "# en formato JSON Ejemplo: \n",
    "gmaps = googlemaps.Client(key='Aqui va la Clave de API') \n",
    "geocode_reverse = gmaps.reverse_geocode(-33.018844301912196, -71.55512222556408) "
   ]
  },
  {
   "cell_type": "code",
   "execution_count": null,
   "metadata": {},
   "outputs": [],
   "source": [
    "#defino una función de geocodificación inversa con una lista de datos lat y long\n",
    "loc= list()\n",
    "data = {}\n",
    "data['Direcciones'] = []\n",
    "def geocode_revez(loc):\n",
    "    gmaps = googlemaps.Client(key='Aqui va la clave de API')\n",
    "    p=0\n",
    "    n=17\n",
    "    for i in range(n+1):  \n",
    "        geocode_resultado = gmaps.reverse_geocode(loc[p]) # utilizo el comando de gmaps.geocode para obtener los datos \n",
    "        p=p+1\n",
    "        #como el texto esta en JSON selecciono lo que quiero que me imprima \n",
    "        data['Direcciones'].append((geocode_resultado[0][\"formatted_address\"]))\n",
    "        #lat= geocode_resultado[0][\"geometry\"][\"location\"][\"lat\"] \n",
    "        #lon= geocode_resultado[0][\"geometry\"][\"location\"][\"lng\"] \n",
    "        print (data['Direcciones'])"
   ]
  },
  {
   "cell_type": "markdown",
   "metadata": {},
   "source": [
    "## Matriz de Distancia de puntos "
   ]
  },
  {
   "cell_type": "code",
   "execution_count": null,
   "metadata": {},
   "outputs": [],
   "source": [
    "#Pregunta para una distancia en base a dos direcciones ejemplo:\n",
    "gmaps = googlemaps.Client(key='Aqui va la Clave de API') \n",
    "gmaps.distance_matrix ('Alvares 646, viña del mar, Chile','6 Norte 536, Viña del Mar, Valparaíso, Chile')"
   ]
  },
  {
   "cell_type": "code",
   "execution_count": null,
   "metadata": {},
   "outputs": [],
   "source": [
    "#crear un dataframe para guardar los datos obtenidos en este caso en km\n",
    "lis=range(0,42)\n",
    "kilometros = pd.DataFrame(columns=lis)\n",
    "for e in lis:  #la rellenamos de 0 para poder acceder a la posiciones \n",
    "    kilometros.loc[e] = 0"
   ]
  },
  {
   "cell_type": "code",
   "execution_count": null,
   "metadata": {},
   "outputs": [],
   "source": [
    "# definir la función para datos de distancia en kilometros \n",
    "# d y t son los puntos que se quieren comparar para las distancias\n",
    "def matriz(d,t):\n",
    "    gmaps = googlemaps.Client(key='Aqui va la clave de API') #declaro la clave de API Google Maps\n",
    "    for i in range(len(d)):\n",
    "        for j in range(len(d)):\n",
    "            if i==j: \n",
    "                    kilometros.loc[i].loc[j]=0\n",
    "            else:\n",
    "                # para la distancia se coloca el mode='transit' que es para el trafico\n",
    "                # traffic_model='duration_in_traffic' el cual tiene los tiempos previstos en el trafico según promedios históricos \n",
    "                resultado = gmaps.distance_matrix (prueba[i],prueba[j],mode='transit', traffic_model='duration_in_traffic') #llamo a la función de matriz de distancia            \n",
    "                km = resultado[\"rows\"][0][\"elements\"][0][\"distance\"][\"value\"]\n",
    "                km= km/1000\n",
    "                km=\"{:.1f}\".format(km)\n",
    "                kilometros.loc[i].loc[j]=km\n",
    "    print (kilometros)"
   ]
  },
  {
   "cell_type": "markdown",
   "metadata": {},
   "source": [
    "Para el caso de matriz de distancia en minutos es la misma funcion anterior pero cambiando la posición del dato a guardar que en este caso sería minutos"
   ]
  },
  {
   "cell_type": "code",
   "execution_count": null,
   "metadata": {},
   "outputs": [],
   "source": [
    "# d y t son la lista de distacia a generar\n",
    "#tambien se debe crear un DataFrame para guardar los datos  \n",
    "\n",
    "def matriz(d,t):\n",
    "    gmaps = googlemaps.Client(key='Aqui va la clave de API') #declaro la clave de API Google Maps\n",
    "    for i in range(len(d)):\n",
    "        \n",
    "        for j in range(len(d)):\n",
    "            if i==j: \n",
    "                    distancia.loc[i].loc[j]=0\n",
    "            else:\n",
    "            \n",
    "                resultado = gmaps.distance_matrix (prueba[i],prueba[j],mode='transit', traffic_model='duration_in_traffic') #llamo a la función de matriz de distancia            \n",
    "                tiempo = resultado[\"rows\"][0][\"elements\"][0][\"duration\"][\"value\"] # declaro como tiempo el resultado de la duración del viaje\n",
    "                tiempo= tiempo/60\n",
    "                tiempo=\"{:.0f}\".format(tiempo)\n",
    "                distancia.loc[i].loc[j]=tiempo\n",
    "    print (distancia)"
   ]
  }
 ],
 "metadata": {
  "kernelspec": {
   "display_name": "Python 3",
   "language": "python",
   "name": "python3"
  },
  "language_info": {
   "codemirror_mode": {
    "name": "ipython",
    "version": 3
   },
   "file_extension": ".py",
   "mimetype": "text/x-python",
   "name": "python",
   "nbconvert_exporter": "python",
   "pygments_lexer": "ipython3",
   "version": "3.7.1"
  }
 },
 "nbformat": 4,
 "nbformat_minor": 2
}
